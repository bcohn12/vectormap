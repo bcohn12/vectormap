{
 "metadata": {
  "name": "",
  "signature": "sha256:36655956e8c72be8a602efa6118e3bc681a7ce393a67fd3703a8814026b3fbd4"
 },
 "nbformat": 3,
 "nbformat_minor": 0,
 "worksheets": []
}