{
 "metadata": {
  "name": "",
  "signature": "sha256:702d50d9f0df9cecfd7ad3e0782f6364bb37e1826ca0668e0e20acaad188d8fe"
 },
 "nbformat": 3,
 "nbformat_minor": 0,
 "worksheets": [
  {
   "cells": [
    {
     "cell_type": "markdown",
     "metadata": {},
     "source": [
      "Okay, lets load all necessary files"
     ]
    },
    {
     "cell_type": "markdown",
     "metadata": {},
     "source": [
      "import libraries and load the data file"
     ]
    },
    {
     "cell_type": "code",
     "collapsed": false,
     "input": [
      "import numpy as np\n",
      "import pdb\n",
      "import matplotlib\n",
      "import pylab\n",
      "from mpl_toolkits.basemap import Basemap\n",
      "from mpl_toolkits.mplot3d import Axes3D\n",
      "import matplotlib.pyplot as plt\n",
      "from spherepoint_pick import random_dim_points\n",
      "import warnings\n",
      "from scipy.io import loadmat\n",
      "from matplotlib.backends.backend_pdf import PdfPages\n",
      "from interp_non_grid_xyz import *"
     ],
     "language": "python",
     "metadata": {},
     "outputs": [],
     "prompt_number": 101
    },
    {
     "cell_type": "code",
     "collapsed": false,
     "input": [
      "def mat_muscle_index(muscle_num):\n",
      "    return muscle_num+5"
     ],
     "language": "python",
     "metadata": {},
     "outputs": [],
     "prompt_number": 102
    },
    {
     "cell_type": "code",
     "collapsed": false,
     "input": [
      "C_normal = loadmat('../output/C_13_14_16_18_19_20_21_23_25_30_27_5.mat')\n",
      "muscles_of_interest = [5,13,14,16,18,19,20,21,23,25,27,30]\n",
      "alpha_vals = range(5)"
     ],
     "language": "python",
     "metadata": {},
     "outputs": [],
     "prompt_number": 103
    },
    {
     "cell_type": "code",
     "collapsed": false,
     "input": [
      "for muscle in muscles_of_interest:\n",
      "    filename = \"m\" + str(muscle) + \"nonscaled\" + \".pdf\"\n",
      "    pp = PdfPages(filename)\n",
      "    for alpha in alpha_vals:\n",
      "        print(alpha)\n",
      "        mat = C_normal['C'][1,alpha] #set to 1 to only select the lowerbound.\n",
      "        muscle_vals = mat[:,mat_muscle_index(muscle)]\n",
      "        plt = interp_nongrid_xyz(mat[:,0:3], muscle_vals)\n",
      "        alpha_title = \"alpha is\"+str( alpha*.1 + 0.5 )\n",
      "#         plt.suptitle(alpha_title, fontsize=14, fontweight='bold')\n",
      "        plt.savefig(pp, format='pdf')\n",
      "        \n",
      "    print(muscle)\n",
      "    pp.close()\n",
      "        \n"
     ],
     "language": "python",
     "metadata": {},
     "outputs": [
      {
       "output_type": "stream",
       "stream": "stdout",
       "text": [
        "0\n"
       ]
      },
      {
       "ename": "KeyboardInterrupt",
       "evalue": "",
       "output_type": "pyerr",
       "traceback": [
        "\u001b[1;31m---------------------------------------------------------------------------\u001b[0m\n\u001b[1;31mKeyboardInterrupt\u001b[0m                         Traceback (most recent call last)",
        "\u001b[1;32m<ipython-input-104-c2b23ca5375f>\u001b[0m in \u001b[0;36m<module>\u001b[1;34m()\u001b[0m\n\u001b[0;32m      6\u001b[0m         \u001b[0mmat\u001b[0m \u001b[1;33m=\u001b[0m \u001b[0mC_normal\u001b[0m\u001b[1;33m[\u001b[0m\u001b[1;34m'C'\u001b[0m\u001b[1;33m]\u001b[0m\u001b[1;33m[\u001b[0m\u001b[1;36m1\u001b[0m\u001b[1;33m,\u001b[0m\u001b[0malpha\u001b[0m\u001b[1;33m]\u001b[0m \u001b[1;31m#set to 1 to only select the lowerbound.\u001b[0m\u001b[1;33m\u001b[0m\u001b[0m\n\u001b[0;32m      7\u001b[0m         \u001b[0mmuscle_vals\u001b[0m \u001b[1;33m=\u001b[0m \u001b[0mmat\u001b[0m\u001b[1;33m[\u001b[0m\u001b[1;33m:\u001b[0m\u001b[1;33m,\u001b[0m\u001b[0mmat_muscle_index\u001b[0m\u001b[1;33m(\u001b[0m\u001b[0mmuscle\u001b[0m\u001b[1;33m)\u001b[0m\u001b[1;33m]\u001b[0m\u001b[1;33m\u001b[0m\u001b[0m\n\u001b[1;32m----> 8\u001b[1;33m         \u001b[0mplt\u001b[0m \u001b[1;33m=\u001b[0m \u001b[0minterp_nongrid_xyz\u001b[0m\u001b[1;33m(\u001b[0m\u001b[0mmat\u001b[0m\u001b[1;33m[\u001b[0m\u001b[1;33m:\u001b[0m\u001b[1;33m,\u001b[0m\u001b[1;36m0\u001b[0m\u001b[1;33m:\u001b[0m\u001b[1;36m3\u001b[0m\u001b[1;33m]\u001b[0m\u001b[1;33m,\u001b[0m \u001b[0mmuscle_vals\u001b[0m\u001b[1;33m)\u001b[0m\u001b[1;33m\u001b[0m\u001b[0m\n\u001b[0m\u001b[0;32m      9\u001b[0m         \u001b[0malpha_title\u001b[0m \u001b[1;33m=\u001b[0m \u001b[1;34m\"alpha is\"\u001b[0m\u001b[1;33m+\u001b[0m\u001b[0mstr\u001b[0m\u001b[1;33m(\u001b[0m \u001b[0malpha\u001b[0m\u001b[1;33m*\u001b[0m\u001b[1;36m.1\u001b[0m \u001b[1;33m+\u001b[0m \u001b[1;36m0.5\u001b[0m \u001b[1;33m)\u001b[0m\u001b[1;33m\u001b[0m\u001b[0m\n\u001b[0;32m     10\u001b[0m \u001b[1;31m#         plt.suptitle(alpha_title, fontsize=14, fontweight='bold')\u001b[0m\u001b[1;33m\u001b[0m\u001b[1;33m\u001b[0m\u001b[0m\n",
        "\u001b[1;32mC:\\Users\\b\\Documents\\dev\\vectormap\\python_implementation\\interp_non_grid_xyz.py\u001b[0m in \u001b[0;36minterp_nongrid_xyz\u001b[1;34m(pts, surfaceval)\u001b[0m\n\u001b[0;32m     73\u001b[0m             \u001b[0mnorm_v\u001b[0m \u001b[1;33m=\u001b[0m \u001b[0mnp\u001b[0m\u001b[1;33m.\u001b[0m\u001b[0mlinalg\u001b[0m\u001b[1;33m.\u001b[0m\u001b[0mnorm\u001b[0m\u001b[1;33m(\u001b[0m\u001b[0mv\u001b[0m\u001b[1;33m)\u001b[0m\u001b[1;33m\u001b[0m\u001b[0m\n\u001b[0;32m     74\u001b[0m             \u001b[0mdotprod_normalizer\u001b[0m \u001b[1;33m=\u001b[0m \u001b[0mnorm_pts\u001b[0m \u001b[1;33m*\u001b[0m \u001b[0mnorm_v\u001b[0m\u001b[1;33m\u001b[0m\u001b[0m\n\u001b[1;32m---> 75\u001b[1;33m             \u001b[0mdotprod_normalizer\u001b[0m\u001b[1;33m[\u001b[0m\u001b[0mdotprod_normalizer\u001b[0m \u001b[1;33m==\u001b[0m \u001b[1;36m0\u001b[0m\u001b[1;33m]\u001b[0m \u001b[1;33m=\u001b[0m \u001b[1;36m1\u001b[0m\u001b[1;33m\u001b[0m\u001b[0m\n\u001b[0m\u001b[0;32m     76\u001b[0m             \u001b[0mdotprod_of_vectors\u001b[0m\u001b[1;33m=\u001b[0m \u001b[0mnp\u001b[0m\u001b[1;33m.\u001b[0m\u001b[0mdot\u001b[0m\u001b[1;33m(\u001b[0m\u001b[0mpts\u001b[0m\u001b[1;33m,\u001b[0m\u001b[0mv\u001b[0m\u001b[1;33m)\u001b[0m \u001b[1;33m/\u001b[0m \u001b[0mdotprod_normalizer\u001b[0m\u001b[1;33m\u001b[0m\u001b[0m\n\u001b[0;32m     77\u001b[0m             \u001b[1;31m# angs is a vectors of the angles between the unknown point and the\u001b[0m\u001b[1;33m\u001b[0m\u001b[1;33m\u001b[0m\u001b[0m\n",
        "\u001b[1;31mKeyboardInterrupt\u001b[0m: "
       ]
      }
     ],
     "prompt_number": 104
    },
    {
     "cell_type": "markdown",
     "metadata": {},
     "source": [
      "for each of the muscles of interest, \n",
      "get the surfaceval of that muscle\n",
      "run the interpolation and plot\n",
      "   set filename to the specimen, muscle and alpha\n",
      "   save the plot to pdf"
     ]
    },
    {
     "cell_type": "code",
     "collapsed": false,
     "input": [
      "ls"
     ],
     "language": "python",
     "metadata": {},
     "outputs": []
    },
    {
     "cell_type": "code",
     "collapsed": false,
     "input": [],
     "language": "python",
     "metadata": {},
     "outputs": []
    },
    {
     "cell_type": "code",
     "collapsed": false,
     "input": [],
     "language": "python",
     "metadata": {},
     "outputs": []
    },
    {
     "cell_type": "code",
     "collapsed": false,
     "input": [],
     "language": "python",
     "metadata": {},
     "outputs": []
    },
    {
     "cell_type": "code",
     "collapsed": false,
     "input": [],
     "language": "python",
     "metadata": {},
     "outputs": []
    },
    {
     "cell_type": "code",
     "collapsed": false,
     "input": [],
     "language": "python",
     "metadata": {},
     "outputs": []
    },
    {
     "cell_type": "code",
     "collapsed": false,
     "input": [],
     "language": "python",
     "metadata": {},
     "outputs": []
    },
    {
     "cell_type": "code",
     "collapsed": false,
     "input": [
      "\n"
     ],
     "language": "python",
     "metadata": {},
     "outputs": []
    }
   ],
   "metadata": {}
  }
 ]
}