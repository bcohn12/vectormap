{
 "metadata": {
  "name": "",
  "signature": "sha256:947fa4c44b85f4b8ed66779b3542accf448846b550f1ac55358950dd5d8f7161"
 },
 "nbformat": 3,
 "nbformat_minor": 0,
 "worksheets": [
  {
   "cells": [
    {
     "cell_type": "markdown",
     "metadata": {},
     "source": [
      "# Structure of `Sohn2013_hinlimb_models.mat`\n",
      "We've got a `.mat` file with data that we want to explore. As specified by Hongchul Sohn, the author of the data:\n",
      "\n",
      "### `Cats`\n",
      "\n",
      "Each cell, `({1} birdy, {2} nikey, {3} russl)`, contains:\n",
      "- `name` (string): cat's name\n",
      "- `R` (7x31): moment arm matrix\n",
      "- `J` (6x7): geometric Jacobian, mapping endpoing wrench (6x1) and joint torque (7x1)\n",
      "- `q` (7x1): model posture matched to experimental cat configuration at normal preferred stance\n",
      "\n",
      "### `DoFs` {1,3}\n",
      "DoF names\n",
      "- `HF` (hip flexion)\n",
      "- `HAd` (hip adduction)\n",
      "- `HR` (hip rotation)\n",
      "- `KE` (knee extension)\n",
      "- `KA` (knee adduction)\n",
      "- `AE` (ankle extension)\n",
      "- `AAd` (ankle adduction)\n",
      "\n",
      "### `muscles` {1x31}\n",
      "muscle names (abbreviations in paper)\n",
      "\n",
      "### `fmax` (1x31)\n",
      "maximum isometric muscle force, descending from original cat model [Burkholder and Nichols, 2004]\n",
      "\n",
      "### `afl95`\n",
      "scaling factor from active force-length relationship curve, at 95% of optimal fiber length\n",
      "\n",
      "### `cosa95` (1x31)\n",
      "cosine of pennation at given posture.\n",
      "\n",
      "## Note\n",
      "- The above two variables are computed from specific Hill-type muscle model using Neuromechanic. \n",
      "- Tendon slack lengths, which we regard as free variable, are set so that all muscles are at 95% of its optimum fiber lengths.\n",
      "- Because of this, pennation is same across all postures (or cats).\n",
      "\n",
      "## Example\n",
      "For model construction, you only need fmax, afl95, cos95 and R for a given cat. Choose birdy (cat = 1), for example:\n",
      "\n",
      "    RFm = Cats{1,cat}.R*diag(afl95*(fmax.*cosa95))\n",
      "\n",
      "Linear equation for static equilibrium then becomes:\n",
      "\n",
      "    RFm*e == (Cats{1,cat}.J)'*Fend\n",
      "    \n",
      "where `e` (31x1) is the muscle excitation vector you are solving for and `Fend` (6x1) is an endpoint wrench vector you specify as the task.\n",
      "\n",
      "# Exctraction using numpy & scipy"
     ]
    },
    {
     "cell_type": "code",
     "collapsed": false,
     "input": [
      "from scipy.io import loadmat\n",
      "from numpy.linalg import pinv\n",
      "from numpy import matrix, diag\n",
      "mat_data_struct = loadmat('Sohn2013_hinlimb_models.mat')"
     ],
     "language": "python",
     "metadata": {},
     "outputs": [],
     "prompt_number": 1
    },
    {
     "cell_type": "markdown",
     "metadata": {},
     "source": [
      "We've loaded the data, but we don't know anything about it"
     ]
    },
    {
     "cell_type": "code",
     "collapsed": false,
     "input": [
      "type(mat_data_struct)"
     ],
     "language": "python",
     "metadata": {},
     "outputs": [
      {
       "metadata": {},
       "output_type": "pyout",
       "prompt_number": 2,
       "text": [
        "dict"
       ]
      }
     ],
     "prompt_number": 2
    },
    {
     "cell_type": "markdown",
     "metadata": {},
     "source": [
      "So it's a dictionary"
     ]
    },
    {
     "cell_type": "code",
     "collapsed": false,
     "input": [
      "mat_data_struct.keys()"
     ],
     "language": "python",
     "metadata": {},
     "outputs": [
      {
       "metadata": {},
       "output_type": "pyout",
       "prompt_number": 3,
       "text": [
        "['afl95',\n",
        " 'muscles',\n",
        " 'fmax',\n",
        " '__header__',\n",
        " 'cosa95',\n",
        " '__globals__',\n",
        " 'Cats',\n",
        " 'DoFs',\n",
        " '__version__']"
       ]
      }
     ],
     "prompt_number": 3
    },
    {
     "cell_type": "markdown",
     "metadata": {},
     "source": [
      "Right, we are interested in the `'Cats'` part (according to the file `readme.m`)"
     ]
    },
    {
     "cell_type": "code",
     "collapsed": false,
     "input": [
      "mat_cats_struct = mat_data_struct['Cats']"
     ],
     "language": "python",
     "metadata": {},
     "outputs": [],
     "prompt_number": 4
    },
    {
     "cell_type": "code",
     "collapsed": false,
     "input": [
      "type(mat_cats_struct)"
     ],
     "language": "python",
     "metadata": {},
     "outputs": [
      {
       "metadata": {},
       "output_type": "pyout",
       "prompt_number": 5,
       "text": [
        "numpy.ndarray"
       ]
      }
     ],
     "prompt_number": 5
    },
    {
     "cell_type": "code",
     "collapsed": false,
     "input": [
      "mat_cats_struct.shape"
     ],
     "language": "python",
     "metadata": {},
     "outputs": [
      {
       "metadata": {},
       "output_type": "pyout",
       "prompt_number": 6,
       "text": [
        "(1L, 3L)"
       ]
      }
     ],
     "prompt_number": 6
    },
    {
     "cell_type": "markdown",
     "metadata": {},
     "source": [
      "So it's a 3-element row-vector, just as described in the readme. Let's check out the first cat."
     ]
    },
    {
     "cell_type": "code",
     "collapsed": false,
     "input": [
      "type(mat_cats_struct[0,0])"
     ],
     "language": "python",
     "metadata": {},
     "outputs": [
      {
       "metadata": {},
       "output_type": "pyout",
       "prompt_number": 7,
       "text": [
        "numpy.ndarray"
       ]
      }
     ],
     "prompt_number": 7
    },
    {
     "cell_type": "code",
     "collapsed": false,
     "input": [
      "mat_cats_struct[0,0].shape"
     ],
     "language": "python",
     "metadata": {},
     "outputs": [
      {
       "metadata": {},
       "output_type": "pyout",
       "prompt_number": 8,
       "text": [
        "(1L, 1L)"
       ]
      }
     ],
     "prompt_number": 8
    },
    {
     "cell_type": "markdown",
     "metadata": {},
     "source": [
      "Ok, that's a little weird. Apparently it's a 1-element array. Whatever. Let's check it out."
     ]
    },
    {
     "cell_type": "code",
     "collapsed": false,
     "input": [
      "mat_cats_struct[0,0]"
     ],
     "language": "python",
     "metadata": {},
     "outputs": [
      {
       "metadata": {},
       "output_type": "pyout",
       "prompt_number": 9,
       "text": [
        "array([[ ([[-0.02783489912161, -0.01882911604966, -0.02868287010288, -0.03071652959358, 0.0, 0.0, 0.0, -0.00208368875446, 0.0003485538953436, 0.001456767089118, -0.02927431092181, 0.0, 0.0, 0.0, -0.009245564245646, 0.0, 0.0, 0.003935755549574, 0.0, 0.000896679288098, -0.007143540946358, 0.003742031416251, 0.02282982547408, -0.02761199801176, 0.0, -0.03582234054497, 0.0, 0.0, 0.0, 0.0, 0.0], [0.003990983832939, 0.006648899690929, -0.0006355796399535, -0.001548459275539, 0.0, 0.0, 0.0, -0.002845565498727, -0.007179741520794, -0.005218254438697, 0.005843580316898, 0.0, 0.0, 0.0, 0.001783503698058, 0.0, 0.0, 0.001548346656565, 0.0, -0.008898295416249, -0.004060503947911, -0.001227457615269, 0.0149204158403, 0.001019405134613, 0.0, -0.002623144767741, 0.0, 0.0, 0.0, 0.0, 0.0], [0.003157945210088, 0.0006708891567457, 0.002124034575455, 0.00428315647766, 0.0, 0.0, 0.0, -0.008643568860864, -0.01505518451558, -0.01550768474396, 0.001688019636424, 0.0, 0.0, 0.0, 0.0003056909509738, 0.0, 0.0, -0.001282149883146, 0.0, 0.001198455486097, 0.007721092926651, 0.0003367388778529, -0.001019161859921, -0.001814524756842, 0.0, -0.002837083717716, 0.0, 0.0, 0.0, 0.0, 0.0], [0.0, 0.0, 0.0, -0.03380243501439, 0.002147091016874, 0.0, 0.0, 0.0, 0.0, 0.0, -0.02812536410839, -0.007968300290057, -0.008778953315791, 0.0, 0.0, 0.0, -0.008528042676866, 0.0, 0.0, 0.0, 0.0, 0.009775322426243, 0.0, -0.004371980070236, 0.0, -0.03422503356838, 0.0, 0.0, 0.009102669381603, 0.008852135067189, 0.008996176966654], [0.0, 0.0, 0.0, 0.01241406697032, -0.005422976628189, 0.0, 0.0, 0.0, 0.0, 0.0, -0.001405103544474, -0.00410598689128, 0.001116558764212, 0.0, 0.0, 0.0, -0.005144334278681, 0.0, 0.0, 0.0, 0.0, -0.004771203141274, 0.0, -0.005108715145826, 0.0, -0.006672177313841, 0.0, 0.0, -0.003267709530142, -0.001944106483436, -0.007106260389893], [0.0, 0.0, 0.0, 0.0, -0.009731983330464, 0.001566067711558, 0.004328204415756, 0.0, 0.0, 0.0, 0.0, 0.009682440308431, 0.011401749685, 0.001190070599856, 0.0, 0.0007996029287431, 0.01459020049161, 0.0, 0.0005579586433572, 0.0, 0.0, 0.0, 0.0, 0.0, 0.01060796892582, 0.0, -0.008676970477828, 0.0002876872276216, 0.0, 0.0, 0.0], [0.0, 0.0, 0.0, 0.0, -0.003332472366159, 0.00995602056047, 0.00143587047278, 0.0, 0.0, 0.0, 0.0, 0.004402845592835, 0.002849124518352, -0.002282577142891, 0.0, -0.005968695563936, 0.00507288443447, 0.0, -0.002801703213964, 0.0, 0.0, 0.0, 0.0, 0.0, 0.004311411851769, 0.0, -0.001902162143581, 0.009734985378671, 0.0, 0.0, 0.0]], [[0.2234976451696, 0.008432122451868, -0.0146817143015, 0.1471455529382, -0.003810460243922, -0.07060299184861, -0.01825125389556], [-0.02835970686496, -0.009624710493188, -0.007787963353863, -0.09014052087962, -0.001723371151422, 0.009531332381853, -0.009033533902514], [0.0, -0.149420018465, -0.1685661873535, -0.01579992548833, -0.03583576980603, 0.0007766049408956, -0.07430851346857], [0.0, 0.7521698653937, 0.6588003950711, 0.1909253966513, -0.2868878091614, -0.01283173881681, 0.9108096163933], [0.0, 0.6589692660463, -0.7519771103363, 0.1414048924364, -0.9549105796903, -0.01358570047598, -0.3722639648047], [1.0, 0.0, -0.02263768946677, 0.9713661252631, 0.0764275457546, -0.9998253723634, -0.1784527477887]], [u'birdy'], [[-48.7786895377033], [1.2971548715395], [-8.67990806283839], [-84.0721897678482], [18.6757078585793], [-31.6202992915975], [-11.8246234522819]])]], \n",
        "      dtype=[('R', 'O'), ('J', 'O'), ('name', 'O'), ('q', 'O')])"
       ]
      }
     ],
     "prompt_number": 9
    },
    {
     "cell_type": "markdown",
     "metadata": {},
     "source": [
      "Alright, that kind of makes sense. Let's unwrap it."
     ]
    },
    {
     "cell_type": "code",
     "collapsed": false,
     "input": [
      "cat_data = mat_cats_struct[0,0][0][0]\n",
      "R = cat_data[0]\n",
      "J = cat_data[1]\n",
      "name = cat_data[2][0]\n",
      "q = cat_data[3]"
     ],
     "language": "python",
     "metadata": {},
     "outputs": [],
     "prompt_number": 10
    },
    {
     "cell_type": "markdown",
     "metadata": {},
     "source": [
      "Let's make sure the variables match the specs:"
     ]
    },
    {
     "cell_type": "code",
     "collapsed": false,
     "input": [
      "print(\"R dimensions, {0}, are valid? {1}\".format(R.shape, R.shape == (7,31)))\n",
      "print(\"J dimensions, {0}, are valid? {1}\".format(J.shape, J.shape == (6,7)))\n",
      "print(\"This should be a string with the cat's name: {0}\".format(name))\n",
      "print(\"q dimensions, {0}, are valid? {1}\".format(q.shape, q.shape == (7,1)))"
     ],
     "language": "python",
     "metadata": {},
     "outputs": [
      {
       "output_type": "stream",
       "stream": "stdout",
       "text": [
        "R dimensions, (7L, 31L), are valid? True\n",
        "J dimensions, (6L, 7L), are valid? True\n",
        "This should be a string with the cat's name: birdy\n",
        "q dimensions, (7L, 1L), are valid? True\n"
       ]
      }
     ],
     "prompt_number": 11
    },
    {
     "cell_type": "markdown",
     "metadata": {},
     "source": [
      "# Model construction for the first cat (birdy)\n",
      "\n",
      "We've already set the variables `R` and `J`, for the moment arm matrix and Jacobian, respectively. Let's also extract the other globals mentioned above. \n",
      "\n",
      "First, we set up the cat-global constants:"
     ]
    },
    {
     "cell_type": "code",
     "collapsed": false,
     "input": [
      "cat_const_fmax = mat_data_struct['fmax']\n",
      "cat_const_cosa95 = mat_data_struct['cosa95']\n",
      "cat_const_afl95 = mat_data_struct['afl95'][0,0]"
     ],
     "language": "python",
     "metadata": {},
     "outputs": [],
     "prompt_number": 12
    },
    {
     "cell_type": "markdown",
     "metadata": {},
     "source": [
      "The following is specific to `birdy`"
     ]
    },
    {
     "cell_type": "code",
     "collapsed": false,
     "input": [
      "F = (cat_const_afl95 * cat_const_fmax * cat_const_cosa95)[0,:]"
     ],
     "language": "python",
     "metadata": {},
     "outputs": [],
     "prompt_number": 13
    },
    {
     "cell_type": "markdown",
     "metadata": {},
     "source": [
      "The equilibrium is now given by\n",
      "\n",
      "    R*F*x == J.T * w\n",
      "\n",
      "where `x` is the activation vector, and `w` is the corresponding endpoint wrench. Thus, we get our matrix of generators:"
     ]
    },
    {
     "cell_type": "code",
     "collapsed": false,
     "input": [
      "W = pinv(J.T) * matrix(R) * matrix(diag(F))"
     ],
     "language": "python",
     "metadata": {},
     "outputs": [],
     "prompt_number": 14
    },
    {
     "cell_type": "markdown",
     "metadata": {},
     "source": [
      "`W` is a 6x31 matrix, where the $i$-th column represents the contribution of the $i$-th muscle."
     ]
    },
    {
     "cell_type": "markdown",
     "metadata": {},
     "source": [
      "# Putting it all together and saving everything"
     ]
    },
    {
     "cell_type": "code",
     "collapsed": false,
     "input": [
      "def compute_cat_generators(cat_index):\n",
      "    cat_data = mat_cats_struct[0, cat_index][0][0]\n",
      "    R = cat_data[0]\n",
      "    J = cat_data[1]\n",
      "    name = cat_data[2][0]\n",
      "    q = cat_data[3]\n",
      "    F = (cat_const_afl95 * cat_const_fmax * cat_const_cosa95)[0,:]\n",
      "    W = pinv(J.T) * matrix(R) * matrix(diag(F))\n",
      "    return name, W"
     ],
     "language": "python",
     "metadata": {},
     "outputs": [],
     "prompt_number": 15
    },
    {
     "cell_type": "code",
     "collapsed": false,
     "input": [
      "from numpy import savetxt\n",
      "\n",
      "num_cats = 3\n",
      "\n",
      "for cat_index in range(num_cats):\n",
      "    name, W = compute_cat_generators(cat_index)\n",
      "    savetxt(\"cat.{0}.wrenches.txt\".format(name), W.T)\n",
      "    savetxt(\"cat.{0}.forces.txt\".format(name), W[0:3,:].T)\n",
      "    savetxt(\"cat.{0}.torques.txt\".format(name), W[3:,:].T)"
     ],
     "language": "python",
     "metadata": {},
     "outputs": [],
     "prompt_number": 16
    }
   ],
   "metadata": {}
  }
 ]
}